{
 "cells": [
  {
   "cell_type": "markdown",
   "metadata": {},
   "source": [
    "This notebook moves towards GPy and GPyOpt libraries to make use of their GP and Bayesian optimization implementations (the main goal is still to show seasonality breaks standard methods)"
   ]
  },
  {
   "cell_type": "code",
   "execution_count": null,
   "metadata": {},
   "outputs": [],
   "source": [
    "import math\n",
    "import numpy as np\n",
    "import GPy\n",
    "import GPyOpt\n",
    "import matplotlib.pyplot as plt\n",
    "from IPython import display\n",
    "import time\n",
    "%matplotlib inline"
   ]
  },
  {
   "cell_type": "code",
   "execution_count": null,
   "metadata": {},
   "outputs": [],
   "source": [
    "x = np.linspace(0, 1, 1000)\n",
    "plt.plot(x, np.sin(2 * math.pi * np.linspace(-0 * 1.0 / 7, 1 - 0 * 1.0 / 7, 1000)), label=\"0\")\n",
    "plt.plot(x, np.sin(2 * math.pi * np.linspace(-1 * 1.0 / 7, 1 - 1 * 1.0 / 7, 1000)), label=\"1\")\n",
    "plt.plot(x, np.sin(2 * math.pi * np.linspace(-2 * 1.0 / 7, 1 - 2 * 1.0 / 7, 1000)), label=\"2\")\n",
    "plt.plot(x, np.sin(2 * math.pi * np.linspace(-3 * 1.0 / 7, 1 - 3 * 1.0 / 7, 1000)), label=\"3\")\n",
    "plt.plot(x, np.sin(2 * math.pi * np.linspace(-4 * 1.0 / 7, 1 - 4 * 1.0 / 7, 1000)), label=\"4\")\n",
    "plt.plot(x, np.sin(2 * math.pi * np.linspace(-5 * 1.0 / 7, 1 - 5 * 1.0 / 7, 1000)), label=\"5\")\n",
    "plt.plot(x, np.sin(2 * math.pi * np.linspace(-6 * 1.0 / 7, 1 - 6 * 1.0 / 7, 1000)), label=\"6\")\n",
    "plt.title(\"Example of a moving periodic signal\")\n",
    "plt.legend()\n",
    "plt.show()"
   ]
  },
  {
   "cell_type": "code",
   "execution_count": null,
   "metadata": {},
   "outputs": [],
   "source": [
    "class DataGenerator:\n",
    "    def __init__(self, sigma_obs):\n",
    "        self.day_of_the_week = 0\n",
    "        self.sigma_obs = sigma_obs\n",
    "\n",
    "    def sample(self, x):\n",
    "        # Handling cases when x is both scalar and numpy array\n",
    "        self.day_of_the_week = (self.day_of_the_week + 1) % 7\n",
    "        return np.sin(2 * math.pi * (x - self.day_of_the_week * 1.0 / 7)) + self.sigma_obs * np.random.randn()\n"
   ]
  },
  {
   "cell_type": "code",
   "execution_count": null,
   "metadata": {},
   "outputs": [],
   "source": [
    "data_gen = DataGenerator(sigma_obs=0.1)\n",
    "\n",
    "def f(parameters):\n",
    "    parameters = parameters[0]\n",
    "    x = parameters[0]\n",
    "    score = -data_gen.sample(x)\n",
    "    score = np.array(score)\n",
    "    return score"
   ]
  },
  {
   "cell_type": "code",
   "execution_count": null,
   "metadata": {},
   "outputs": [],
   "source": [
    "bounds = [\n",
    "            {'name': 'x', 'type': 'continuous', 'domain': (0, 1)}\n",
    "         ]"
   ]
  },
  {
   "cell_type": "code",
   "execution_count": null,
   "metadata": {},
   "outputs": [],
   "source": [
    "np.random.seed(777)\n",
    "optimizer = GPyOpt.methods.BayesianOptimization(f=f, domain=bounds,\n",
    "                                                acquisition_type ='MPI',\n",
    "                                                acquisition_par = 0.1,\n",
    "                                                exact_eval=True)"
   ]
  },
  {
   "cell_type": "code",
   "execution_count": null,
   "metadata": {},
   "outputs": [],
   "source": [
    "max_iter = 50\n",
    "max_time = 60\n",
    "optimizer.run_optimization(max_iter, max_time)"
   ]
  },
  {
   "cell_type": "code",
   "execution_count": null,
   "metadata": {},
   "outputs": [],
   "source": [
    "plt.scatter(optimizer.X[:, 0], optimizer.Y)\n",
    "plt.title(\"Sampled points during standard Bayesian optimization\")\n",
    "plt.show()"
   ]
  },
  {
   "cell_type": "code",
   "execution_count": null,
   "metadata": {},
   "outputs": [],
   "source": [
    "kernel = GPy.kern.RBF(input_dim=1)\n",
    "model = GPy.models.GPRegression(optimizer.X, optimizer.Y, kernel)\n",
    "model.optimize()\n",
    "\n",
    "model.plot()\n",
    "plt.show()"
   ]
  }
 ],
 "metadata": {
  "kernelspec": {
   "display_name": "Python 2",
   "language": "python",
   "name": "python2"
  },
  "language_info": {
   "codemirror_mode": {
    "name": "ipython",
    "version": 2
   },
   "file_extension": ".py",
   "mimetype": "text/x-python",
   "name": "python",
   "nbconvert_exporter": "python",
   "pygments_lexer": "ipython2",
   "version": "2.7.13"
  }
 },
 "nbformat": 4,
 "nbformat_minor": 2
}
