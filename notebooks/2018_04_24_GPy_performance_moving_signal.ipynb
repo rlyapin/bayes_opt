{
 "cells": [
  {
   "cell_type": "markdown",
   "metadata": {},
   "source": [
    "This notebook moves towards GPy and GPyOpt libraries to make use of their GP and Bayesian optimization implementations (the main goal is still to show seasonality breaks standard methods)"
   ]
  },
  {
   "cell_type": "code",
   "execution_count": null,
   "metadata": {},
   "outputs": [],
   "source": [
    "import math\n",
    "import numpy as np\n",
    "import GPy\n",
    "import GPyOpt\n",
    "import time\n",
    "\n",
    "import sys\n",
    "sys.path.append(\"../../PyDeepGP\")\n",
    "import deepgp\n",
    "\n",
    "import matplotlib.pyplot as plt\n",
    "from IPython import display\n",
    "%matplotlib inline"
   ]
  },
  {
   "cell_type": "code",
   "execution_count": null,
   "metadata": {},
   "outputs": [],
   "source": [
    "x = np.linspace(0, 1, 1000)\n",
    "plt.plot(x, np.sin(2 * math.pi * np.linspace(-0 * 1.0 / 7, 1 - 0 * 1.0 / 7, 1000)), label=\"0\")\n",
    "plt.plot(x, np.sin(2 * math.pi * np.linspace(-1 * 1.0 / 7, 1 - 1 * 1.0 / 7, 1000)), label=\"1\")\n",
    "plt.plot(x, np.sin(2 * math.pi * np.linspace(-2 * 1.0 / 7, 1 - 2 * 1.0 / 7, 1000)), label=\"2\")\n",
    "plt.plot(x, np.sin(2 * math.pi * np.linspace(-3 * 1.0 / 7, 1 - 3 * 1.0 / 7, 1000)), label=\"3\")\n",
    "plt.plot(x, np.sin(2 * math.pi * np.linspace(-4 * 1.0 / 7, 1 - 4 * 1.0 / 7, 1000)), label=\"4\")\n",
    "plt.plot(x, np.sin(2 * math.pi * np.linspace(-5 * 1.0 / 7, 1 - 5 * 1.0 / 7, 1000)), label=\"5\")\n",
    "plt.plot(x, np.sin(2 * math.pi * np.linspace(-6 * 1.0 / 7, 1 - 6 * 1.0 / 7, 1000)), label=\"6\")\n",
    "plt.title(\"Example of a moving periodic signal\")\n",
    "plt.legend()\n",
    "plt.show()"
   ]
  },
  {
   "cell_type": "code",
   "execution_count": null,
   "metadata": {},
   "outputs": [],
   "source": [
    "class DataGenerator:\n",
    "    def __init__(self, sigma_obs):\n",
    "        self.day_of_the_week = 0\n",
    "        self.sigma_obs = sigma_obs\n",
    "\n",
    "    def sample(self, x):\n",
    "        # Handling cases when x is both scalar and numpy array\n",
    "        self.day_of_the_week = (self.day_of_the_week + 1) % 7\n",
    "        return np.sin(2 * math.pi * (x - self.day_of_the_week * 1.0 / 7)) + self.sigma_obs * np.random.randn()\n"
   ]
  },
  {
   "cell_type": "markdown",
   "metadata": {},
   "source": [
    "## Confirming basic Bayesian optimization breaks"
   ]
  },
  {
   "cell_type": "code",
   "execution_count": null,
   "metadata": {},
   "outputs": [],
   "source": [
    "data_gen = DataGenerator(sigma_obs=0.1)\n",
    "\n",
    "def f(parameters):\n",
    "    parameters = parameters[0]\n",
    "    x = parameters[0]\n",
    "    score = -data_gen.sample(x)\n",
    "    score = np.array(score)\n",
    "    return score"
   ]
  },
  {
   "cell_type": "code",
   "execution_count": null,
   "metadata": {},
   "outputs": [],
   "source": [
    "bounds = [\n",
    "            {'name': 'x', 'type': 'continuous', 'domain': (0, 1)}\n",
    "         ]"
   ]
  },
  {
   "cell_type": "code",
   "execution_count": null,
   "metadata": {},
   "outputs": [],
   "source": [
    "np.random.seed(777)\n",
    "optimizer = GPyOpt.methods.BayesianOptimization(f=f, domain=bounds,\n",
    "                                                acquisition_type ='MPI',\n",
    "                                                acquisition_par = 0.1,\n",
    "                                                exact_eval=True)"
   ]
  },
  {
   "cell_type": "code",
   "execution_count": null,
   "metadata": {},
   "outputs": [],
   "source": [
    "max_iter = 50\n",
    "max_time = 60\n",
    "optimizer.run_optimization(max_iter, max_time)"
   ]
  },
  {
   "cell_type": "code",
   "execution_count": null,
   "metadata": {},
   "outputs": [],
   "source": [
    "plt.scatter(optimizer.X[:, 0], optimizer.Y)\n",
    "plt.title(\"Sampled points during standard Bayesian optimization\")\n",
    "plt.show()"
   ]
  },
  {
   "cell_type": "markdown",
   "metadata": {},
   "source": [
    "## GP without seasonality knowledge"
   ]
  },
  {
   "cell_type": "code",
   "execution_count": null,
   "metadata": {},
   "outputs": [],
   "source": [
    "kernel = GPy.kern.RBF(input_dim=1)\n",
    "model = GPy.models.GPRegression(optimizer.X, optimizer.Y, kernel)\n",
    "model.optimize()\n",
    "\n",
    "model.plot()\n",
    "plt.show()"
   ]
  },
  {
   "cell_type": "markdown",
   "metadata": {},
   "source": [
    "## Trying 2D ARD kernels to account for seasonality"
   ]
  },
  {
   "cell_type": "code",
   "execution_count": null,
   "metadata": {},
   "outputs": [],
   "source": [
    "class DataGenerator:\n",
    "    def __init__(self, sigma_obs):\n",
    "        self.day_of_the_week = 0\n",
    "        self.sigma_obs = sigma_obs\n",
    "\n",
    "    def sample(self, x):\n",
    "        # Handling cases when x is both scalar and numpy array\n",
    "        self.day_of_the_week = (self.day_of_the_week + 1) % 7\n",
    "        signal = np.sin(2 * math.pi * (x - self.day_of_the_week * 1.0 / 7)) + self.sigma_obs * np.random.randn()\n",
    "        return [self.day_of_the_week, x, signal]\n",
    "    \n",
    "    def generate_random_sample(self, n_obs):\n",
    "        obs = []\n",
    "        for _ in range(n_obs):\n",
    "            obs.append(self.sample(np.random.random()))\n",
    "        return np.array(obs)"
   ]
  },
  {
   "cell_type": "code",
   "execution_count": null,
   "metadata": {},
   "outputs": [],
   "source": [
    "np.random.seed(123456)\n",
    "data_gen = DataGenerator(sigma_obs=0.1)\n",
    "sample = data_gen.generate_random_sample(50)"
   ]
  },
  {
   "cell_type": "markdown",
   "metadata": {},
   "source": [
    "With ARD=False the multidimensional kernel is the basic 1D kernel for the norm of the difference between vectors\n",
    "\n",
    "With ARD=True the multidimensional kernel is product of differently scaled 1D kernels for elements of vectors"
   ]
  },
  {
   "cell_type": "code",
   "execution_count": null,
   "metadata": {},
   "outputs": [],
   "source": [
    "kernel = GPy.kern.RBF(input_dim=2, ARD=True)\n",
    "model = GPy.models.GPRegression(sample[:, :2], sample[:, 2].reshape(-1, 1), kernel)\n",
    "model.optimize()\n",
    "\n",
    "model.plot()\n",
    "plt.show()"
   ]
  },
  {
   "cell_type": "code",
   "execution_count": null,
   "metadata": {},
   "outputs": [],
   "source": [
    "x = np.linspace(0, 1, 1000)\n",
    "\n",
    "plt.figure(figsize=(10, 25))\n",
    "plt.title(\"Example of a moving periodic signal\")\n",
    "\n",
    "for i in range(7):\n",
    "    plt.subplot(7, 1, i + 1)\n",
    "    x_pred = np.hstack([i * np.ones(x.shape).reshape(-1, 1), x.reshape(-1, 1)])\n",
    "    pred = model.predict(x_pred)\n",
    "    plt.plot(x, pred[0], label=str(i) + \"_infered\")   \n",
    "    plt.plot(x, np.sin(2 * math.pi * (x - i * 1.0 / 7)), label=str(i) + \"_true\")  \n",
    "    plt.plot(sample[np.where(sample[:, 0] == i)][:, 1], sample[np.where(sample[:, 0] == i)][:, 2], \".\", color=\"r\", label=\"samples\")\n",
    "    plt.fill_between(x, (pred[0] - 2 * pred[1]).reshape(-1), (pred[0] + 2 * pred[1]).reshape(-1), color=\"b\", alpha=0.25)    \n",
    "    plt.legend()\n",
    "    \n",
    "plt.show()"
   ]
  },
  {
   "cell_type": "code",
   "execution_count": null,
   "metadata": {},
   "outputs": [],
   "source": [
    "kernel.plot_ARD()"
   ]
  },
  {
   "cell_type": "markdown",
   "metadata": {},
   "source": [
    "## Fitting DeepGP"
   ]
  },
  {
   "cell_type": "code",
   "execution_count": null,
   "metadata": {},
   "outputs": [],
   "source": [
    "kern1 = GPy.kern.RBF(2, ARD=True) + GPy.kern.Bias(2)\n",
    "kern2 = GPy.kern.RBF(2, ARD=True) + GPy.kern.Bias(2)\n",
    "\n",
    "model = deepgp.DeepGP(nDims=[1, 2, 2],\n",
    "                      Y=sample[:, 2].reshape(-1, 1),\n",
    "                      X=sample[:, :2],\n",
    "                      kernels=[kern1,kern2], \n",
    "                      num_inducing=10, \n",
    "                      back_constraint=False\n",
    "                     )"
   ]
  },
  {
   "cell_type": "code",
   "execution_count": null,
   "metadata": {},
   "outputs": [],
   "source": [
    "model.optimize(max_iters=5000, messages=True)"
   ]
  },
  {
   "cell_type": "code",
   "execution_count": null,
   "metadata": {},
   "outputs": [],
   "source": [
    "x = np.linspace(0, 1, 1000)\n",
    "\n",
    "plt.figure(figsize=(10, 25))\n",
    "plt.title(\"Example of a moving periodic signal\")\n",
    "\n",
    "for i in range(7):\n",
    "    plt.subplot(7, 1, i + 1)\n",
    "    x_pred = np.hstack([i * np.ones(x.shape).reshape(-1, 1), x.reshape(-1, 1)])\n",
    "    pred = model.predict(x_pred)\n",
    "    plt.plot(x, pred[0], label=str(i) + \"_infered\")   \n",
    "    plt.plot(x, np.sin(2 * math.pi * (x - i * 1.0 / 7)), label=str(i) + \"_true\")  \n",
    "    plt.plot(sample[np.where(sample[:, 0] == i)][:, 1], sample[np.where(sample[:, 0] == i)][:, 2], \".\", color=\"r\", label=\"samples\")\n",
    "    plt.fill_between(x, (pred[0] - 2 * pred[1]).reshape(-1), (pred[0] + 2 * pred[1]).reshape(-1), color=\"b\", alpha=0.25)    \n",
    "    plt.legend()\n",
    "    \n",
    "plt.show()"
   ]
  },
  {
   "cell_type": "code",
   "execution_count": null,
   "metadata": {},
   "outputs": [],
   "source": [
    "model.obslayer.kern.plot_ARD()\n",
    "model.layer_1.kern.plot_ARD()"
   ]
  }
 ],
 "metadata": {
  "kernelspec": {
   "display_name": "Python 2",
   "language": "python",
   "name": "python2"
  },
  "language_info": {
   "codemirror_mode": {
    "name": "ipython",
    "version": 2
   },
   "file_extension": ".py",
   "mimetype": "text/x-python",
   "name": "python",
   "nbconvert_exporter": "python",
   "pygments_lexer": "ipython2",
   "version": "2.7.13"
  }
 },
 "nbformat": 4,
 "nbformat_minor": 2
}
