{
 "cells": [
  {
   "cell_type": "code",
   "execution_count": null,
   "metadata": {},
   "outputs": [],
   "source": [
    "import numpy as np\n",
    "import matplotlib.pyplot as plt\n",
    "import math\n",
    "%matplotlib inline"
   ]
  },
  {
   "cell_type": "code",
   "execution_count": null,
   "metadata": {},
   "outputs": [],
   "source": [
    "x = np.linspace(0.0001, 1, 1000)\n",
    "x1_matrix = np.tile(x, len(x)).reshape((len(x), len(x)))\n",
    "x2_matrix = x1_matrix.transpose()"
   ]
  },
  {
   "cell_type": "code",
   "execution_count": null,
   "metadata": {},
   "outputs": [],
   "source": [
    "# Kernel matrix for Gaussian kernel\n",
    "l = 0.1\n",
    "K = np.exp(-(x1_matrix - x2_matrix) ** 2 / (2 * l * l))\n",
    "\n",
    "# Sampling for Brownian kernel\n",
    "# K = np.minimum(x1_matrix, x2_matrix)"
   ]
  },
  {
   "cell_type": "code",
   "execution_count": null,
   "metadata": {},
   "outputs": [],
   "source": [
    "while True:\n",
    "    try:\n",
    "        chol = np.linalg.cholesky(K)\n",
    "        break\n",
    "    except:\n",
    "        K += 0.0001 * np.eye(len(x))"
   ]
  },
  {
   "cell_type": "code",
   "execution_count": null,
   "metadata": {},
   "outputs": [],
   "source": [
    "gp = np.dot(chol, np.random.randn(len(x)).reshape(-1, 1))\n",
    "plt.plot(x, gp)\n",
    "plt.title(\"Sampled GP\")\n",
    "plt.show()"
   ]
  }
 ],
 "metadata": {
  "kernelspec": {
   "display_name": "Python 2",
   "language": "python",
   "name": "python2"
  },
  "language_info": {
   "codemirror_mode": {
    "name": "ipython",
    "version": 2
   },
   "file_extension": ".py",
   "mimetype": "text/x-python",
   "name": "python",
   "nbconvert_exporter": "python",
   "pygments_lexer": "ipython2",
   "version": "2.7.13"
  }
 },
 "nbformat": 4,
 "nbformat_minor": 2
}
