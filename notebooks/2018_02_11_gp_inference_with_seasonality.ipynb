{
 "cells": [
  {
   "cell_type": "markdown",
   "metadata": {},
   "source": [
    "This notebook tries to do GP inference in case of seasonal trends: i.e. for beginning we assume there is some true underlying signal for season 0 and we shift it (for now by constant for simplicity) to get the true underlying signal for season 1\n",
    "\n",
    "In this setting we can still assume we are deaing with GP setting (this time with additional vector for our observations in the second season)"
   ]
  },
  {
   "cell_type": "code",
   "execution_count": null,
   "metadata": {},
   "outputs": [],
   "source": [
    "import numpy as np\n",
    "import scipy as sp\n",
    "import matplotlib.pyplot as plt\n",
    "import math\n",
    "import scipy.stats\n",
    "import time\n",
    "from IPython import display\n",
    "%matplotlib inline"
   ]
  },
  {
   "cell_type": "markdown",
   "metadata": {},
   "source": [
    "## Defining base signal"
   ]
  },
  {
   "cell_type": "code",
   "execution_count": null,
   "metadata": {},
   "outputs": [],
   "source": [
    "x = np.linspace(0, 1, 1000)\n",
    "true_y = np.random.randn(1) * np.ones(1000)\n",
    "for i in range(1, 6):\n",
    "    true_y += np.random.randn(1) * np.sin(i * math.pi * x)\n",
    "    true_y += np.random.randn(1) * np.cos(i * math.pi * x)\n",
    "season_offset = np.random.randn(1)"
   ]
  },
  {
   "cell_type": "code",
   "execution_count": null,
   "metadata": {},
   "outputs": [],
   "source": [
    "sigma_obs = 0.1\n",
    "\n",
    "pick_x0 = np.random.choice(range(len(x)), size=5, replace=False)\n",
    "sample_x0 = x[pick_x0]\n",
    "sample_y0 = true_y[pick_x0] + sigma_obs * np.random.randn(5)\n",
    "\n",
    "pick_x1 = np.random.choice(range(len(x)), size=5, replace=False)\n",
    "sample_x1 = x[pick_x1]\n",
    "sample_y1 = season_offset + true_y[pick_x1] + sigma_obs * np.random.randn(5)"
   ]
  },
  {
   "cell_type": "code",
   "execution_count": null,
   "metadata": {},
   "outputs": [],
   "source": [
    "plt.plot(x, true_y, color=\"b\", label=\"season_0\")\n",
    "plt.plot(x, true_y + season_offset, color=\"r\", label=\"season_1\")\n",
    "plt.plot(sample_x0, sample_y0, \".\", color=\"b\", label=\"sample_s0\")\n",
    "plt.plot(sample_x1, sample_y1, \".\", color=\"r\", label=\"sample_s1\")\n",
    "plt.legend()\n",
    "plt.show()"
   ]
  },
  {
   "cell_type": "markdown",
   "metadata": {},
   "source": [
    "## Doing inference with seasons"
   ]
  },
  {
   "cell_type": "code",
   "execution_count": null,
   "metadata": {},
   "outputs": [],
   "source": [
    "def k_seasonal(x1, x2):\n",
    "    # calculating kernel matrix for seasonal components\n",
    "    # It is assumed both x1 and x2 are array with two elements: x corresponding to different seasonalities\n",
    "    # The final K would look the followign way: \n",
    "    # [K1, K3]\n",
    "    # [K2, K4]\n",
    "    # where K1 and K4 cover kernel values for x1, x2 observations within the same season\n",
    "    # K2 and K3 cover cross-season interactions\n",
    "    # entry at [i, j] position is given by k(x2[i], x1[j])\n",
    "    \n",
    "    # gaussian kernel hyperparameters - adjusts the distance between points and variance\n",
    "    same_season_l = 1\n",
    "    same_season_scale = 1\n",
    "    cross_season_l = 0.25\n",
    "    cross_season_scale = 0.25\n",
    "    \n",
    "    x1_matrix = np.tile(x1[0], len(x2[0])).reshape((len(x2[0]), len(x1[0])))\n",
    "    x2_matrix = np.tile(x2[0], len(x1[0])).reshape((len(x1[0]), len(x2[0]))).transpose()    \n",
    "    k1_matrix = np.exp(-(x1_matrix - x2_matrix) ** 2 / (2 * same_season_l * same_season_l))\n",
    "\n",
    "    x1_matrix = np.tile(x1[0], len(x2[1])).reshape((len(x2[1]), len(x1[0])))\n",
    "    x2_matrix = np.tile(x2[1], len(x1[0])).reshape((len(x1[0]), len(x2[1]))).transpose()    \n",
    "    k2_matrix = cross_season_scale * np.exp(-(x1_matrix - x2_matrix) ** 2 / (2 * cross_season_l * cross_season_l))\n",
    "\n",
    "    x1_matrix = np.tile(x1[1], len(x2[0])).reshape((len(x2[0]), len(x1[1])))\n",
    "    x2_matrix = np.tile(x2[0], len(x1[1])).reshape((len(x1[1]), len(x2[0]))).transpose()    \n",
    "    k3_matrix = cross_season_scale * np.exp(-(x1_matrix - x2_matrix) ** 2 / (2 * cross_season_l * cross_season_l))\n",
    "\n",
    "    x1_matrix = np.tile(x1[1], len(x2[1])).reshape((len(x2[1]), len(x1[1])))\n",
    "    x2_matrix = np.tile(x2[1], len(x1[1])).reshape((len(x1[1]), len(x2[1]))).transpose()    \n",
    "    k4_matrix = np.exp(-(x1_matrix - x2_matrix) ** 2 / (2 * same_season_l * same_season_l))\n",
    "    \n",
    "    return np.hstack([np.vstack([k1_matrix, k2_matrix]), np.vstack([k3_matrix, k4_matrix])])"
   ]
  },
  {
   "cell_type": "code",
   "execution_count": null,
   "metadata": {},
   "outputs": [],
   "source": [
    "def gp_posterior(sample_x, sample_y, x, sigma_obs):\n",
    "    # Calculating posterior for gaussian processes\n",
    "    # I am specifically interested in posterior mean, std and cholesky matrix for postrior at sampled points (for nei)\n",
    "    # it is assumed that observations have some additional gaussian noise\n",
    "    # Special note for the seasonal nature: I assume all sample_x, sample_y and x are arrays with two elements for two seasons\n",
    "    \n",
    "    # Separately calculating matrix used to calculate both mean and variance\n",
    "    K = np.dot(k_seasonal(sample_x, x),\n",
    "               np.linalg.inv(k_seasonal(sample_x, sample_x) + np.eye(len(sample_x[0]) + len(sample_x[1])) * sigma_obs ** 2)\n",
    "              )\n",
    "    \n",
    "    mu = np.dot(K, np.hstack([sample_y[0], sample_y[1]]))\n",
    "    sigma = k_seasonal(x, x) - np.dot(K, k_seasonal(x, sample_x))\n",
    "    std_1d = np.sqrt([sigma[i, i] for i in range(len(mu))])\n",
    "    \n",
    "    return mu.reshape(-1), std_1d.reshape(-1)"
   ]
  },
  {
   "cell_type": "code",
   "execution_count": null,
   "metadata": {},
   "outputs": [],
   "source": [
    "mu, std_1d = gp_posterior([sample_x0, sample_x1], [sample_y0, sample_y1], [x, x], sigma_obs)\n",
    "\n",
    "mu0 = mu[:len(x)]\n",
    "mu1 = mu[len(x):]\n",
    "std_1d0 = std_1d[:len(x)]\n",
    "std_1d1 = std_1d[len(x):]"
   ]
  },
  {
   "cell_type": "code",
   "execution_count": null,
   "metadata": {},
   "outputs": [],
   "source": [
    "plt.plot(x, true_y, color=\"b\", label=\"season_0\")\n",
    "plt.plot(x, true_y + season_offset, color=\"r\", label=\"season_1\")\n",
    "plt.plot(sample_x0, sample_y0, \".\", color=\"b\", label=\"sample_s0\")\n",
    "plt.plot(sample_x1, sample_y1, \".\", color=\"r\", label=\"sample_s1\")\n",
    "\n",
    "# plt.plot(x, mu0, color=\"b\", label=\"posterior_s0\")\n",
    "plt.fill_between(x, mu0 - 2 * std_1d0, mu0 + 2 * std_1d0, color=\"b\", alpha=0.5)\n",
    "\n",
    "# plt.plot(x, mu1, color=\"r\", label=\"posterior_s1\")\n",
    "plt.fill_between(x, mu1 - 2 * std_1d1, mu1 + 2 * std_1d1, color=\"r\", alpha=0.5)\n",
    "\n",
    "plt.title(\"GP posterior for seasonal trends\")\n",
    "\n",
    "plt.legend()\n",
    "plt.show()"
   ]
  }
 ],
 "metadata": {
  "kernelspec": {
   "display_name": "Python 2",
   "language": "python",
   "name": "python2"
  },
  "language_info": {
   "codemirror_mode": {
    "name": "ipython",
    "version": 2
   },
   "file_extension": ".py",
   "mimetype": "text/x-python",
   "name": "python",
   "nbconvert_exporter": "python",
   "pygments_lexer": "ipython2",
   "version": "2.7.13"
  }
 },
 "nbformat": 4,
 "nbformat_minor": 2
}
