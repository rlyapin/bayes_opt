{
 "cells": [
  {
   "cell_type": "markdown",
   "metadata": {},
   "source": [
    "This notebook tends to offer a possible optimization setting where naive Bayesian optimization would fail\n",
    "\n",
    "The main idea is to consider a signal which is not iid (e.g. when the signal has associated seasonality and the optimizaion domain is essentially 2d)"
   ]
  },
  {
   "cell_type": "code",
   "execution_count": null,
   "metadata": {},
   "outputs": [],
   "source": [
    "import math\n",
    "import numpy as np\n",
    "import matplotlib.pyplot as plt\n",
    "from IPython import display\n",
    "import time\n",
    "%matplotlib inline"
   ]
  },
  {
   "cell_type": "code",
   "execution_count": null,
   "metadata": {},
   "outputs": [],
   "source": [
    "x = np.linspace(0, 1, 1000)\n",
    "plt.plot(x, np.sin(2 * math.pi * np.linspace(-0 * 1.0 / 7, 1 - 0 * 1.0 / 7, 1000)), label=\"0\")\n",
    "plt.plot(x, np.sin(2 * math.pi * np.linspace(-1 * 1.0 / 7, 1 - 1 * 1.0 / 7, 1000)), label=\"1\")\n",
    "plt.plot(x, np.sin(2 * math.pi * np.linspace(-2 * 1.0 / 7, 1 - 2 * 1.0 / 7, 1000)), label=\"2\")\n",
    "plt.plot(x, np.sin(2 * math.pi * np.linspace(-3 * 1.0 / 7, 1 - 3 * 1.0 / 7, 1000)), label=\"3\")\n",
    "plt.plot(x, np.sin(2 * math.pi * np.linspace(-4 * 1.0 / 7, 1 - 4 * 1.0 / 7, 1000)), label=\"4\")\n",
    "plt.plot(x, np.sin(2 * math.pi * np.linspace(-5 * 1.0 / 7, 1 - 5 * 1.0 / 7, 1000)), label=\"5\")\n",
    "plt.plot(x, np.sin(2 * math.pi * np.linspace(-6 * 1.0 / 7, 1 - 6 * 1.0 / 7, 1000)), label=\"6\")\n",
    "plt.title(\"Example of a moving periodic signal\")\n",
    "plt.legend()\n",
    "plt.show()"
   ]
  },
  {
   "cell_type": "code",
   "execution_count": null,
   "metadata": {},
   "outputs": [],
   "source": [
    "class DataGenerator:\n",
    "    def __init__(self, sigma_obs):\n",
    "        self.domain = np.linspace(0, 1, 1000)\n",
    "        self.day_of_the_week = 0\n",
    "        self.true_y = {i : np.sin(2 * math.pi * np.linspace(-i * 1.0 / 7, 1 - i * 1.0 / 7, 1000)) for i in range(7)}\n",
    "        self.sigma_obs = sigma_obs\n",
    "        self.true_y_dict = {i: {x: y for (x, y) in zip(self.domain, self.true_y[i])} for i in range(7)}\n",
    "\n",
    "    def sample(self, x):\n",
    "        # Handling cases when x is both scalar and numpy array\n",
    "        self.day_of_the_week = (self.day_of_the_week + 1) % 7\n",
    "        if type(x) == np.ndarray:\n",
    "            return np.array(map(lambda z: self.true_y_dict[self.day_of_the_week][z], x)) + self.sigma_obs * np.random.randn(x.shape[0])\n",
    "        else:\n",
    "            return self.true_y_dict[self.day_of_the_week][x] + self.sigma_obs * np.random.randn()\n"
   ]
  },
  {
   "cell_type": "code",
   "execution_count": null,
   "metadata": {},
   "outputs": [],
   "source": [
    "import sys\n",
    "sys.path.append(\"..\")\n",
    "from bayes_opt import BayesOpt\n",
    "\n",
    "MCMC_OPTS = {\"prior\": lambda l: int(l > 0 and l < 1),\n",
    "             \"icdf\": lambda l: l,\n",
    "             \"jump\": lambda l: l + 0.05 * np.random.randn(),\n",
    "             \"burn_period\": 10000,\n",
    "             \"mcmc_samples\": 25}\n",
    "data_gen = DataGenerator(sigma_obs=0.1)\n",
    "\n",
    "opt_engine = BayesOpt(data_gen, init_sample_size=1, max_steps=50, sigma_obs=0.1, \n",
    "                      is_mcmc=True, mcmc_opts=MCMC_OPTS)\n",
    "\n",
    "for _ in range(50):\n",
    "    opt_engine.step()\n",
    "    \n",
    "    true_y = data_gen.true_y[data_gen.day_of_the_week]\n",
    "    sample_x = opt_engine.x\n",
    "    sample_y = opt_engine.y\n",
    "    mu = opt_engine.mu_posterior\n",
    "    std_1d = opt_engine.std_posterior\n",
    "\n",
    "    plt.plot(x, true_y, label=\"true_signal\")\n",
    "    plt.plot(sample_x, sample_y, \".\", color=\"r\", label=\"picked_x\")\n",
    "    plt.plot([sample_x[-1]], [sample_y[-1]], \".\", color=\"b\", label=\"last_x\")\n",
    "    plt.plot(x, mu, color=\"g\", label=\"posterior\")\n",
    "    plt.fill_between(x, mu - 2 * std_1d, mu + 2 * std_1d, color=\"g\", alpha=0.5)\n",
    "\n",
    "    plt.title(\"True and recovered signals\")\n",
    "    plt.legend()\n",
    "    plt.xlabel(\"x\")\n",
    "    plt.show()\n",
    "\n",
    "    display.display(plt.gcf())\n",
    "    display.clear_output(wait=True)\n",
    "    time.sleep(2)    "
   ]
  }
 ],
 "metadata": {
  "kernelspec": {
   "display_name": "Python 2",
   "language": "python",
   "name": "python2"
  },
  "language_info": {
   "codemirror_mode": {
    "name": "ipython",
    "version": 2
   },
   "file_extension": ".py",
   "mimetype": "text/x-python",
   "name": "python",
   "nbconvert_exporter": "python",
   "pygments_lexer": "ipython2",
   "version": "2.7.13"
  }
 },
 "nbformat": 4,
 "nbformat_minor": 2
}
