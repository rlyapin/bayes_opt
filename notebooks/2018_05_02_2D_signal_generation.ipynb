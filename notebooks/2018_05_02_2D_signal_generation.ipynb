{
 "cells": [
  {
   "cell_type": "code",
   "execution_count": null,
   "metadata": {},
   "outputs": [],
   "source": [
    "import numpy as np\n",
    "import scipy as sp\n",
    "\n",
    "import itertools\n",
    "import math\n",
    "import scipy.stats\n",
    "\n",
    "import time\n",
    "import matplotlib.pyplot as plt\n",
    "from IPython import display\n",
    "%matplotlib inline"
   ]
  },
  {
   "cell_type": "code",
   "execution_count": null,
   "metadata": {},
   "outputs": [],
   "source": [
    "def f(x, dim, max_1d_basis, seed):\n",
    "        \n",
    "    # Generating basis for continuous functions in 1D (trogonometric ones are fine by Stone-Weierstrass)\n",
    "#     basis_functions_1d = [np.ones(1000)]\n",
    "#     for i in range(1, max_1d_basis):\n",
    "#         basis_functions_1d.append(np.sin(i * math.pi * x))\n",
    "#         basis_functions_1d.append(np.cos(i * math.pi * x))\n",
    "\n",
    "    basis_f = [lambda x: 1]\n",
    "    np.random.seed(seed)\n",
    "    for i in range(1, max_1d_basis):\n",
    "        basis_f.append(lambda x: np.sin(i * math.pi * (x + np.random.rand())))\n",
    "        basis_f.append(lambda x: np.cos(i * math.pi * (x + np.random.rand())))\n",
    "\n",
    "    \n",
    "    f_val = 0.0\n",
    "\n",
    "    np.random.seed(seed)\n",
    "    f_val += np.random.randn() * x[0]\n",
    "    f_val += np.random.randn() * x[1]\n",
    "    f_val += np.random.randn() * x[0] ** 2\n",
    "    f_val += np.random.randn() * x[1] ** 2\n",
    "    f_val += np.random.randn() * x[0] * x[1]\n",
    "    \n",
    "    # Constructing basis in arbitarry dimensional space by tensor products\n",
    "    # Fixing seed to have consistent function evaluations\n",
    "    np.random.seed(seed)\n",
    "    for basis_pick in itertools.product(range(len(basis_f)), repeat=dim):\n",
    "        basis_eval_1d = map(lambda i: basis_f[basis_pick[i]](x[i]), range(dim))\n",
    "        f_val += np.random.randn() * reduce(lambda y,z : y * z, basis_eval_1d) \n",
    "        \n",
    "    normalizer = ((len(basis_f) + 1) / 2) ** (0.5 * dim)\n",
    "        \n",
    "    return f_val / normalizer\n",
    "    "
   ]
  },
  {
   "cell_type": "code",
   "execution_count": null,
   "metadata": {},
   "outputs": [],
   "source": [
    "f(np.array([0.5, 0.5]), 2, 3, 123456)"
   ]
  },
  {
   "cell_type": "code",
   "execution_count": null,
   "metadata": {},
   "outputs": [],
   "source": [
    "x1 = np.linspace(0, 1, 100)\n",
    "x2 = np.linspace(0, 1, 100)\n",
    "\n",
    "X1, X2 = np.meshgrid(x1,x2)\n",
    "grid_flat = np.vstack([X1.ravel(), X2.ravel()]).transpose()\n"
   ]
  },
  {
   "cell_type": "code",
   "execution_count": null,
   "metadata": {},
   "outputs": [],
   "source": [
    "z = np.array([f(grid_flat[i, :], 2, 5, 1) for i in range(grid_flat.shape[0])])\n",
    "plt.pcolor(X1, X2, z.reshape((100, 100)), cmap='RdBu')\n",
    "plt.colorbar()\n",
    "plt.show()"
   ]
  }
 ],
 "metadata": {
  "kernelspec": {
   "display_name": "Python 2",
   "language": "python",
   "name": "python2"
  },
  "language_info": {
   "codemirror_mode": {
    "name": "ipython",
    "version": 2
   },
   "file_extension": ".py",
   "mimetype": "text/x-python",
   "name": "python",
   "nbconvert_exporter": "python",
   "pygments_lexer": "ipython2",
   "version": "2.7.13"
  }
 },
 "nbformat": 4,
 "nbformat_minor": 2
}
