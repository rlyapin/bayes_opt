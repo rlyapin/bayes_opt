{
 "cells": [
  {
   "cell_type": "markdown",
   "metadata": {},
   "source": [
    "Implementation of the following paper: https://arxiv.org/pdf/1211.0358.pdf"
   ]
  },
  {
   "cell_type": "code",
   "execution_count": null,
   "metadata": {},
   "outputs": [],
   "source": [
    "import numpy as np\n",
    "import scipy as sp\n",
    "\n",
    "import matplotlib.pyplot as plt\n",
    "%matplotlib inline"
   ]
  },
  {
   "cell_type": "markdown",
   "metadata": {},
   "source": [
    "## Sampling from deep GP"
   ]
  },
  {
   "cell_type": "markdown",
   "metadata": {},
   "source": [
    "Considering the case with 1D input layer, 1 2D hidden layer and 2D output layer"
   ]
  },
  {
   "cell_type": "markdown",
   "metadata": {},
   "source": [
    "Selecting input layer and hyperparameters"
   ]
  },
  {
   "cell_type": "code",
   "execution_count": null,
   "metadata": {},
   "outputs": [],
   "source": [
    "x = np.linspace(0, 1, 100)\n",
    "\n",
    "sigma_hidden = [1, 2]\n",
    "l_hidden = [0.25, 0.5]\n",
    "\n",
    "y_sigma = [1, 2]\n",
    "y_weights = [[5, 10], [1, 20]]"
   ]
  },
  {
   "cell_type": "markdown",
   "metadata": {},
   "source": [
    "First generating a hidden layer"
   ]
  },
  {
   "cell_type": "code",
   "execution_count": null,
   "metadata": {},
   "outputs": [],
   "source": [
    "x1_matrix = np.tile(x, len(x)).reshape((len(x), len(x)))\n",
    "x2_matrix = np.tile(x, len(x)).reshape((len(x), len(x))).transpose()\n",
    "\n",
    "h0_K = np.exp(-(x1_matrix - x2_matrix) ** 2 / (2 * l_hidden[0] ** 2)) * sigma_hidden[0] ** 2\n",
    "h1_K = np.exp(-(x1_matrix - x2_matrix) ** 2 / (2 * l_hidden[1] ** 2)) * sigma_hidden[1] ** 2\n",
    "while True:\n",
    "    try:\n",
    "        np.linalg.cholesky(h0_K)\n",
    "        break\n",
    "    except:\n",
    "        h0_K += 0.0001 * np.eye(len(x))\n",
    "while True:\n",
    "    try:\n",
    "        np.linalg.cholesky(h1_K)\n",
    "        break\n",
    "    except:\n",
    "        h1_K += 0.0001 * np.eye(len(x))\n",
    "        \n",
    "h0 = np.dot(np.linalg.cholesky(h0_K), np.random.randn(len(x)).reshape(-1, 1))\n",
    "h1 = np.dot(np.linalg.cholesky(h1_K), np.random.randn(len(x)).reshape(-1, 1))\n",
    "\n",
    "plt.figure(figsize=(8, 8))\n",
    "plt.subplot(2, 1, 1)\n",
    "plt.plot(x, h0, label=\"h0\")\n",
    "plt.plot(x, h1, label=\"h1\")\n",
    "plt.legend()\n",
    "\n",
    "plt.subplot(2, 1, 2)\n",
    "plt.scatter(h0, h1)\n",
    "plt.show()"
   ]
  },
  {
   "cell_type": "markdown",
   "metadata": {},
   "source": [
    "Generating an output layer"
   ]
  },
  {
   "cell_type": "code",
   "execution_count": null,
   "metadata": {},
   "outputs": [],
   "source": [
    "h0_matrix = np.tile(h0, len(h0)).reshape((len(h0), len(h0)))\n",
    "h0_matrixT = h0_matrix.transpose()\n",
    "h1_matrix = np.tile(h1, len(h1)).reshape((len(h1), len(h1)))\n",
    "h1_matrixT = h1_matrix.transpose()\n",
    "\n",
    "y0_K = np.exp(- y_weights[0][0] * (h0_matrix - h0_matrixT) ** 2 / 2 \n",
    "              - y_weights[0][1] * (h1_matrix - h1_matrixT) ** 2 / 2 ) * y_sigma[0] ** 2\n",
    "y1_K = np.exp(- y_weights[1][0] * (h0_matrix - h0_matrixT) ** 2 / 2 \n",
    "              - y_weights[1][1] * (h1_matrix - h1_matrixT) ** 2 / 2 ) * y_sigma[1] ** 2\n",
    "while True:\n",
    "    try:\n",
    "        np.linalg.cholesky(y0_K)\n",
    "        break\n",
    "    except:\n",
    "        y0_K += 0.0001 * np.eye(len(x))\n",
    "while True:\n",
    "    try:\n",
    "        np.linalg.cholesky(y1_K)\n",
    "        break\n",
    "    except:\n",
    "        y1_K += 0.0001 * np.eye(len(x))\n",
    "\n",
    "y0 = np.dot(np.linalg.cholesky(y0_K), np.random.randn(len(x)).reshape(-1, 1))\n",
    "y1 = np.dot(np.linalg.cholesky(y1_K), np.random.randn(len(x)).reshape(-1, 1))\n",
    "\n",
    "plt.figure(figsize=(8, 8))\n",
    "plt.subplot(2, 1, 1)\n",
    "plt.plot(x, y0, label=\"y0\")\n",
    "plt.plot(x, y1, label=\"y1\")\n",
    "plt.legend()\n",
    "\n",
    "plt.subplot(2, 1, 2)\n",
    "plt.scatter(y0, y1)\n",
    "plt.show()"
   ]
  },
  {
   "cell_type": "markdown",
   "metadata": {},
   "source": [
    "## Learning deep GP process"
   ]
  },
  {
   "cell_type": "code",
   "execution_count": null,
   "metadata": {},
   "outputs": [],
   "source": []
  }
 ],
 "metadata": {
  "kernelspec": {
   "display_name": "Python 2",
   "language": "python",
   "name": "python2"
  },
  "language_info": {
   "codemirror_mode": {
    "name": "ipython",
    "version": 2
   },
   "file_extension": ".py",
   "mimetype": "text/x-python",
   "name": "python",
   "nbconvert_exporter": "python",
   "pygments_lexer": "ipython2",
   "version": "2.7.13"
  }
 },
 "nbformat": 4,
 "nbformat_minor": 2
}
