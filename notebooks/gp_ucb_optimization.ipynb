{
 "cells": [
  {
   "cell_type": "markdown",
   "metadata": {},
   "source": [
    "Implementation of the following paper: https://arxiv.org/pdf/0912.3995.pdf"
   ]
  },
  {
   "cell_type": "code",
   "execution_count": null,
   "metadata": {},
   "outputs": [],
   "source": [
    "import numpy as np\n",
    "import matplotlib.pyplot as plt\n",
    "import math\n",
    "import time\n",
    "from IPython import display\n",
    "%matplotlib inline"
   ]
  },
  {
   "cell_type": "code",
   "execution_count": null,
   "metadata": {},
   "outputs": [],
   "source": [
    "x = np.linspace(0, 1, 1000)\n",
    "y = np.sin(2 * math.pi * x)"
   ]
  },
  {
   "cell_type": "code",
   "execution_count": null,
   "metadata": {},
   "outputs": [],
   "source": [
    "def k_gaussian(x1, x2):\n",
    "    # calculating gaussian kernel matrix\n",
    "    # the output has shape (len(x2), len(x1))\n",
    "    # entry at [i, j] position is given by k(x2[i], x1[j])\n",
    "    \n",
    "    # gaussian kernel hyperparameters - adjusts the distance between points and variance\n",
    "    l = 0.1\n",
    "    sigma = 1\n",
    "    \n",
    "    x1_matrix = np.tile(x1, len(x2)).reshape((len(x2), len(x1)))\n",
    "    x2_matrix = np.tile(x2, len(x1)).reshape((len(x1), len(x2))).transpose()\n",
    "    \n",
    "    k_matrix = np.exp(-(x1_matrix - x2_matrix) ** 2 / (2 * l * l)) * sigma ** 2\n",
    "    \n",
    "    return k_matrix"
   ]
  },
  {
   "cell_type": "code",
   "execution_count": null,
   "metadata": {},
   "outputs": [],
   "source": [
    "def gp_posterior(sample_x, sample_y, x):\n",
    "    # calculating posterior for gaussian processes\n",
    "    # it is assumed that observations have some additional gaussian noise\n",
    "    \n",
    "    sigma_obs = 0.1  \n",
    "    \n",
    "    # Separately calculating matrix used to calculate both mean and variance\n",
    "    K = np.dot(k_gaussian(sample_x, x),\n",
    "               np.linalg.inv(k_gaussian(sample_x, sample_x) + np.eye(len(sample_x)) * sigma_obs ** 2)\n",
    "              )\n",
    "    \n",
    "    mu = np.dot(K, sample_y)\n",
    "    sigma = k_gaussian(x, x) - np.dot(K, k_gaussian(x, sample_x))\n",
    "    \n",
    "    return mu, sigma"
   ]
  },
  {
   "cell_type": "markdown",
   "metadata": {},
   "source": [
    "Picking an arbitrary point for a start and setting a loop to do bayesian optimization"
   ]
  },
  {
   "cell_type": "code",
   "execution_count": null,
   "metadata": {},
   "outputs": [],
   "source": [
    "sigma_obs = 0.1\n",
    "\n",
    "sample_x = np.random.choice(x, size=1, replace=False)\n",
    "sample_y = np.sin(2 * math.pi * sample_x) + sigma_obs * np.random.randn(1)\n",
    "\n",
    "print sample_x, sample_y"
   ]
  },
  {
   "cell_type": "code",
   "execution_count": null,
   "metadata": {},
   "outputs": [],
   "source": [
    "delta = 0.1\n",
    "\n",
    "for t in range(1, 100):\n",
    "    \n",
    "    mu, sigma = gp_posterior(sample_x, sample_y, x)\n",
    "    std_1d = np.sqrt([sigma[i, i] for i in range(len(mu))])\n",
    "    \n",
    "    beta_t = 2 * np.log(2 * (t * np.pi) ** 2 / (3 * delta))\n",
    "\n",
    "    pick_x = np.argmax(mu + np.sqrt(beta_t) * std_1d)\n",
    "    sample_x = np.append(sample_x, x[pick_x])\n",
    "    sample_y = np.append(sample_y, np.sin(2 * math.pi * x[pick_x]) + sigma_obs * np.random.randn(1))\n",
    "    \n",
    "\n",
    "    plt.plot(x, y, label=\"true_signal\")\n",
    "    plt.plot(sample_x, sample_y, \".\", color=\"r\", label=\"picked_x\")\n",
    "    plt.plot([sample_x[-1]], [sample_y[-1]], \".\", color=\"b\", label=\"last_x\")\n",
    "    plt.plot(x, mu, color=\"g\", label=\"posterior\")\n",
    "    plt.fill_between(x, mu - 2 * std_1d, mu + 2 * std_1d, color=\"g\", alpha=0.5)\n",
    "\n",
    "    plt.title(\"True and recovered signals\")\n",
    "    plt.legend()\n",
    "    plt.xlabel(\"x\")\n",
    "    plt.show()\n",
    "\n",
    "    display.display(plt.gcf())\n",
    "    display.clear_output(wait=True)\n",
    "    time.sleep(2)\n",
    "    "
   ]
  }
 ],
 "metadata": {
  "kernelspec": {
   "display_name": "Python 2",
   "language": "python",
   "name": "python2"
  },
  "language_info": {
   "codemirror_mode": {
    "name": "ipython",
    "version": 2
   },
   "file_extension": ".py",
   "mimetype": "text/x-python",
   "name": "python",
   "nbconvert_exporter": "python",
   "pygments_lexer": "ipython2",
   "version": "2.7.13"
  }
 },
 "nbformat": 4,
 "nbformat_minor": 2
}
